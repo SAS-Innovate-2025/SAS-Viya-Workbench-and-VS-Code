{
 "cells": [
  {
   "cell_type": "markdown",
   "metadata": {},
   "source": [
    "# Sample Jupyter Notebook\n",
    "\n",
    "## Access CSV file"
   ]
  },
  {
   "cell_type": "code",
   "execution_count": null,
   "metadata": {},
   "outputs": [],
   "source": [
    "import pandas as pd\n",
    "\n",
    "subscriptions_df = pd.read_csv('SAS-Viya-Workbench-and-VS-Code/Data/subscriptions.csv')\n",
    "subscriptions_df.info()\n",
    "subscriptions_df"
   ]
  },
  {
   "cell_type": "markdown",
   "metadata": {},
   "source": [
    "## Access SAS file"
   ]
  },
  {
   "cell_type": "code",
   "execution_count": null,
   "metadata": {},
   "outputs": [],
   "source": [
    "customers_df = pd.read_sas(\"SAS-Viya-Workbench-and-VS-Code/Data/customers.sas7bdat\")\n",
    "customers_df.head()"
   ]
  },
  {
   "cell_type": "markdown",
   "metadata": {},
   "source": [
    "## Access JSON file"
   ]
  },
  {
   "cell_type": "code",
   "execution_count": null,
   "metadata": {},
   "outputs": [],
   "source": [
    "json_df = pd.read_json('SAS-Viya-Workbench-and-VS-Code/Data/reviews.json')\n",
    "reviews_df = pd.DataFrame.from_records(json_df['reviews'])\n",
    "reviews_df.head()"
   ]
  }
 ],
 "metadata": {
  "language_info": {
   "name": "python"
  }
 },
 "nbformat": 4,
 "nbformat_minor": 2
}
